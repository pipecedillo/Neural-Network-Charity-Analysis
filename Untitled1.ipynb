{
 "cells": [
  {
   "cell_type": "code",
   "execution_count": 1,
   "id": "27273fe6",
   "metadata": {},
   "outputs": [],
   "source": [
    "# Import our dependencies\n",
    "import pandas as pd\n",
    "import matplotlib as plt\n",
    "from sklearn.datasets import make_blobs\n",
    "import sklearn as skl\n",
    "import tensorflow as tf"
   ]
  },
  {
   "cell_type": "code",
   "execution_count": 2,
   "id": "8bbbfcb1",
   "metadata": {},
   "outputs": [
    {
     "data": {
      "text/plain": [
       "<AxesSubplot:xlabel='Feature 1', ylabel='Feature 2'>"
      ]
     },
     "execution_count": 2,
     "metadata": {},
     "output_type": "execute_result"
    },
    {
     "data": {
      "image/png": "[encoded data removed]",
      "text/plain": [
       "<Figure size 432x288 with 2 Axes>"
      ]
     },
     "metadata": {
      "needs_background": "light"
     },
     "output_type": "display_data"
    }
   ],
   "source": [
    "# Generate dummy dataset\n",
    "X, y = make_blobs(n_samples=1000, centers=2, n_features=2, random_state=78)\n",
    "\n",
    "# Creating a DataFrame with the dummy data\n",
    "df = pd.DataFrame(X, columns=[\"Feature 1\", \"Feature 2\"])\n",
    "df[\"Target\"] = y\n",
    "\n",
    "# Plotting the dummy data\n",
    "df.plot.scatter(x=\"Feature 1\", y=\"Feature 2\", c=\"Target\", colormap=\"winter\")\n"
   ]
  },
  {
   "cell_type": "code",
   "execution_count": 3,
   "id": "6acc11c9",
   "metadata": {},
   "outputs": [],
   "source": [
    "# Use sklearn to split dataset\n",
    "from sklearn.model_selection import train_test_split\n",
    "X_train, X_test, y_train, y_test = train_test_split(X, y, random_state=78)\n",
    "\n"
   ]
  },
  {
   "cell_type": "code",
   "execution_count": 4,
   "id": "27b6f477",
   "metadata": {},
   "outputs": [],
   "source": [
    "# Create scaler instance\n",
    "X_scaler = skl.preprocessing.StandardScaler()\n",
    "\n",
    "# Fit the scaler\n",
    "X_scaler.fit(X_train)\n",
    "\n",
    "# Scale the data\n",
    "X_train_scaled = X_scaler.transform(X_train)\n",
    "X_test_scaled = X_scaler.transform(X_test)"
   ]
  },
  {
   "cell_type": "code",
   "execution_count": 5,
   "id": "e96834a9",
   "metadata": {},
   "outputs": [
    {
     "name": "stderr",
     "output_type": "stream",
     "text": [
      "2022-05-17 13:26:52.145292: I tensorflow/core/platform/cpu_feature_guard.cc:193] This TensorFlow binary is optimized with oneAPI Deep Neural Network Library (oneDNN) to use the following CPU instructions in performance-critical operations:  AVX2 FMA\n",
      "To enable them in other operations, rebuild TensorFlow with the appropriate compiler flags.\n"
     ]
    }
   ],
   "source": [
    "# Create the Keras Sequential model\n",
    "nn_model = tf.keras.models.Sequential()"
   ]
  },
  {
   "cell_type": "code",
   "execution_count": 6,
   "id": "d91f1c71",
   "metadata": {},
   "outputs": [],
   "source": [
    "# Add our first Dense layer, including the input layer\n",
    "nn_model.add(tf.keras.layers.Dense(units=1, activation=\"relu\", input_dim=2))"
   ]
  },
  {
   "cell_type": "code",
   "execution_count": 7,
   "id": "81470c0f",
   "metadata": {},
   "outputs": [],
   "source": [
    "# Add the output layer that uses a probability activation function\n",
    "nn_model.add(tf.keras.layers.Dense(units=1, activation=\"sigmoid\"))"
   ]
  },
  {
   "cell_type": "code",
   "execution_count": 8,
   "id": "424568ba",
   "metadata": {},
   "outputs": [
    {
     "name": "stdout",
     "output_type": "stream",
     "text": [
      "Model: \"sequential\"\n",
      "_________________________________________________________________\n",
      " Layer (type)                Output Shape              Param #   \n",
      "=================================================================\n",
      " dense (Dense)               (None, 1)                 3         \n",
      "                                                                 \n",
      " dense_1 (Dense)             (None, 1)                 2         \n",
      "                                                                 \n",
      "=================================================================\n",
      "Total params: 5\n",
      "Trainable params: 5\n",
      "Non-trainable params: 0\n",
      "_________________________________________________________________\n"
     ]
    }
   ],
   "source": [
    "# Check the structure of the Sequential model\n",
    "nn_model.summary()"
   ]
  },
  {
   "cell_type": "code",
   "execution_count": 9,
   "id": "ed238e2a",
   "metadata": {},
   "outputs": [],
   "source": [
    "# Compile the Sequential model together and customize metrics\n",
    "nn_model.compile(loss=\"binary_crossentropy\", optimizer=\"adam\", metrics=[\"accuracy\"])"
   ]
  },
  {
   "cell_type": "code",
   "execution_count": 10,
   "id": "4a522272",
   "metadata": {},
   "outputs": [
    {
     "name": "stdout",
     "output_type": "stream",
     "text": [
      "Epoch 1/100\n",
      "24/24 [==============================] - 0s 1ms/step - loss: 0.6686 - accuracy: 0.5080\n",
      "Epoch 2/100\n",
      "24/24 [==============================] - 0s 872us/step - loss: 0.6621 - accuracy: 1.0000\n",
      "Epoch 3/100\n",
      "24/24 [==============================] - 0s 813us/step - loss: 0.6546 - accuracy: 1.0000\n",
      "Epoch 4/100\n",
      "24/24 [==============================] - 0s 820us/step - loss: 0.6462 - accuracy: 1.0000\n",
      "Epoch 5/100\n",
      "24/24 [==============================] - 0s 826us/step - loss: 0.6366 - accuracy: 1.0000\n",
      "Epoch 6/100\n",
      "24/24 [==============================] - 0s 809us/step - loss: 0.6259 - accuracy: 1.0000\n",
      "Epoch 7/100\n",
      "24/24 [==============================] - 0s 776us/step - loss: 0.6143 - accuracy: 1.0000\n",
      "Epoch 8/100\n",
      "24/24 [==============================] - 0s 764us/step - loss: 0.6018 - accuracy: 1.0000\n",
      "Epoch 9/100\n",
      "24/24 [==============================] - 0s 800us/step - loss: 0.5887 - accuracy: 1.0000\n",
      "Epoch 10/100\n",
      "24/24 [==============================] - 0s 891us/step - loss: 0.5749 - accuracy: 1.0000\n",
      "Epoch 11/100\n",
      "24/24 [==============================] - 0s 856us/step - loss: 0.5606 - accuracy: 1.0000\n",
      "Epoch 12/100\n",
      "24/24 [==============================] - 0s 846us/step - loss: 0.5457 - accuracy: 1.0000\n",
      "Epoch 13/100\n",
      "24/24 [==============================] - 0s 859us/step - loss: 0.5305 - accuracy: 1.0000\n",
      "Epoch 14/100\n",
      "24/24 [==============================] - 0s 880us/step - loss: 0.5152 - accuracy: 1.0000\n",
      "Epoch 15/100\n",
      "24/24 [==============================] - 0s 861us/step - loss: 0.4998 - accuracy: 1.0000\n",
      "Epoch 16/100\n",
      "24/24 [==============================] - 0s 826us/step - loss: 0.4845 - accuracy: 1.0000\n",
      "Epoch 17/100\n",
      "24/24 [==============================] - 0s 847us/step - loss: 0.4693 - accuracy: 1.0000\n",
      "Epoch 18/100\n",
      "24/24 [==============================] - 0s 849us/step - loss: 0.4544 - accuracy: 1.0000\n",
      "Epoch 19/100\n",
      "24/24 [==============================] - 0s 851us/step - loss: 0.4396 - accuracy: 1.0000\n",
      "Epoch 20/100\n",
      "24/24 [==============================] - 0s 853us/step - loss: 0.4253 - accuracy: 1.0000\n",
      "Epoch 21/100\n",
      "24/24 [==============================] - 0s 854us/step - loss: 0.4115 - accuracy: 1.0000\n",
      "Epoch 22/100\n",
      "24/24 [==============================] - 0s 846us/step - loss: 0.3980 - accuracy: 1.0000\n",
      "Epoch 23/100\n",
      "24/24 [==============================] - 0s 861us/step - loss: 0.3851 - accuracy: 1.0000\n",
      "Epoch 24/100\n",
      "24/24 [==============================] - 0s 844us/step - loss: 0.3726 - accuracy: 1.0000\n",
      "Epoch 25/100\n",
      "24/24 [==============================] - 0s 840us/step - loss: 0.3607 - accuracy: 1.0000\n",
      "Epoch 26/100\n",
      "24/24 [==============================] - 0s 817us/step - loss: 0.3492 - accuracy: 1.0000\n",
      "Epoch 27/100\n",
      "24/24 [==============================] - 0s 829us/step - loss: 0.3382 - accuracy: 1.0000\n",
      "Epoch 28/100\n",
      "24/24 [==============================] - 0s 822us/step - loss: 0.3276 - accuracy: 1.0000\n",
      "Epoch 29/100\n",
      "24/24 [==============================] - 0s 866us/step - loss: 0.3176 - accuracy: 1.0000\n",
      "Epoch 30/100\n",
      "24/24 [==============================] - 0s 849us/step - loss: 0.3080 - accuracy: 1.0000\n",
      "Epoch 31/100\n",
      "24/24 [==============================] - 0s 802us/step - loss: 0.2988 - accuracy: 1.0000\n",
      "Epoch 32/100\n",
      "24/24 [==============================] - 0s 853us/step - loss: 0.2901 - accuracy: 1.0000\n",
      "Epoch 33/100\n",
      "24/24 [==============================] - 0s 839us/step - loss: 0.2817 - accuracy: 1.0000\n",
      "Epoch 34/100\n",
      "24/24 [==============================] - 0s 811us/step - loss: 0.2737 - accuracy: 1.0000\n",
      "Epoch 35/100\n",
      "24/24 [==============================] - 0s 874us/step - loss: 0.2660 - accuracy: 1.0000\n",
      "Epoch 36/100\n",
      "24/24 [==============================] - 0s 879us/step - loss: 0.2587 - accuracy: 1.0000\n",
      "Epoch 37/100\n",
      "24/24 [==============================] - 0s 930us/step - loss: 0.2517 - accuracy: 1.0000\n",
      "Epoch 38/100\n",
      "24/24 [==============================] - 0s 913us/step - loss: 0.2450 - accuracy: 1.0000\n",
      "Epoch 39/100\n",
      "24/24 [==============================] - 0s 857us/step - loss: 0.2386 - accuracy: 1.0000\n",
      "Epoch 40/100\n",
      "24/24 [==============================] - 0s 1ms/step - loss: 0.2324 - accuracy: 1.0000\n",
      "Epoch 41/100\n",
      "24/24 [==============================] - 0s 917us/step - loss: 0.2265 - accuracy: 1.0000\n",
      "Epoch 42/100\n",
      "24/24 [==============================] - 0s 834us/step - loss: 0.2208 - accuracy: 1.0000\n",
      "Epoch 43/100\n",
      "24/24 [==============================] - 0s 835us/step - loss: 0.2154 - accuracy: 1.0000\n",
      "Epoch 44/100\n",
      "24/24 [==============================] - 0s 811us/step - loss: 0.2101 - accuracy: 1.0000\n",
      "Epoch 45/100\n",
      "24/24 [==============================] - 0s 795us/step - loss: 0.2051 - accuracy: 1.0000\n",
      "Epoch 46/100\n",
      "24/24 [==============================] - 0s 835us/step - loss: 0.2002 - accuracy: 1.0000\n",
      "Epoch 47/100\n",
      "24/24 [==============================] - 0s 856us/step - loss: 0.1955 - accuracy: 1.0000\n",
      "Epoch 48/100\n",
      "24/24 [==============================] - 0s 905us/step - loss: 0.1911 - accuracy: 1.0000\n",
      "Epoch 49/100\n",
      "24/24 [==============================] - 0s 863us/step - loss: 0.1867 - accuracy: 1.0000\n",
      "Epoch 50/100\n",
      "24/24 [==============================] - 0s 820us/step - loss: 0.1825 - accuracy: 1.0000\n",
      "Epoch 51/100\n",
      "24/24 [==============================] - 0s 829us/step - loss: 0.1785 - accuracy: 1.0000\n",
      "Epoch 52/100\n",
      "24/24 [==============================] - 0s 825us/step - loss: 0.1746 - accuracy: 1.0000\n",
      "Epoch 53/100\n",
      "24/24 [==============================] - 0s 861us/step - loss: 0.1708 - accuracy: 1.0000\n",
      "Epoch 54/100\n",
      "24/24 [==============================] - 0s 850us/step - loss: 0.1671 - accuracy: 1.0000\n",
      "Epoch 55/100\n",
      "24/24 [==============================] - 0s 840us/step - loss: 0.1636 - accuracy: 1.0000\n",
      "Epoch 56/100\n",
      "24/24 [==============================] - 0s 837us/step - loss: 0.1601 - accuracy: 1.0000\n",
      "Epoch 57/100\n",
      "24/24 [==============================] - 0s 842us/step - loss: 0.1568 - accuracy: 1.0000\n",
      "Epoch 58/100\n",
      "24/24 [==============================] - 0s 848us/step - loss: 0.1536 - accuracy: 1.0000\n",
      "Epoch 59/100\n",
      "24/24 [==============================] - 0s 815us/step - loss: 0.1504 - accuracy: 1.0000\n",
      "Epoch 60/100\n",
      "24/24 [==============================] - 0s 1ms/step - loss: 0.1474 - accuracy: 1.0000\n",
      "Epoch 61/100\n",
      "24/24 [==============================] - 0s 867us/step - loss: 0.1445 - accuracy: 1.0000\n",
      "Epoch 62/100\n",
      "24/24 [==============================] - 0s 799us/step - loss: 0.1416 - accuracy: 1.0000\n",
      "Epoch 63/100\n",
      "24/24 [==============================] - 0s 762us/step - loss: 0.1388 - accuracy: 1.0000\n",
      "Epoch 64/100\n",
      "24/24 [==============================] - 0s 869us/step - loss: 0.1361 - accuracy: 1.0000\n",
      "Epoch 65/100\n",
      "24/24 [==============================] - 0s 768us/step - loss: 0.1335 - accuracy: 1.0000\n",
      "Epoch 66/100\n",
      "24/24 [==============================] - 0s 737us/step - loss: 0.1310 - accuracy: 1.0000\n",
      "Epoch 67/100\n",
      "24/24 [==============================] - 0s 832us/step - loss: 0.1285 - accuracy: 1.0000\n",
      "Epoch 68/100\n",
      "24/24 [==============================] - 0s 963us/step - loss: 0.1261 - accuracy: 1.0000\n",
      "Epoch 69/100\n",
      "24/24 [==============================] - 0s 810us/step - loss: 0.1237 - accuracy: 1.0000\n",
      "Epoch 70/100\n",
      "24/24 [==============================] - 0s 812us/step - loss: 0.1214 - accuracy: 1.0000\n",
      "Epoch 71/100\n",
      "24/24 [==============================] - 0s 842us/step - loss: 0.1192 - accuracy: 1.0000\n",
      "Epoch 72/100\n",
      "24/24 [==============================] - 0s 827us/step - loss: 0.1171 - accuracy: 1.0000\n",
      "Epoch 73/100\n",
      "24/24 [==============================] - 0s 805us/step - loss: 0.1150 - accuracy: 1.0000\n",
      "Epoch 74/100\n",
      "24/24 [==============================] - 0s 831us/step - loss: 0.1129 - accuracy: 1.0000\n",
      "Epoch 75/100\n",
      "24/24 [==============================] - 0s 838us/step - loss: 0.1109 - accuracy: 1.0000\n",
      "Epoch 76/100\n",
      "24/24 [==============================] - 0s 844us/step - loss: 0.1090 - accuracy: 1.0000\n",
      "Epoch 77/100\n",
      "24/24 [==============================] - 0s 838us/step - loss: 0.1071 - accuracy: 1.0000\n",
      "Epoch 78/100\n",
      "24/24 [==============================] - 0s 873us/step - loss: 0.1052 - accuracy: 1.0000\n",
      "Epoch 79/100\n",
      "24/24 [==============================] - 0s 872us/step - loss: 0.1034 - accuracy: 1.0000\n",
      "Epoch 80/100\n",
      "24/24 [==============================] - 0s 881us/step - loss: 0.1017 - accuracy: 1.0000\n",
      "Epoch 81/100\n"
     ]
    },
    {
     "name": "stdout",
     "output_type": "stream",
     "text": [
      "24/24 [==============================] - 0s 846us/step - loss: 0.0999 - accuracy: 1.0000\n",
      "Epoch 82/100\n",
      "24/24 [==============================] - 0s 814us/step - loss: 0.0983 - accuracy: 1.0000\n",
      "Epoch 83/100\n",
      "24/24 [==============================] - 0s 841us/step - loss: 0.0966 - accuracy: 1.0000\n",
      "Epoch 84/100\n",
      "24/24 [==============================] - 0s 810us/step - loss: 0.0950 - accuracy: 1.0000\n",
      "Epoch 85/100\n",
      "24/24 [==============================] - 0s 788us/step - loss: 0.0934 - accuracy: 1.0000\n",
      "Epoch 86/100\n",
      "24/24 [==============================] - 0s 772us/step - loss: 0.0919 - accuracy: 1.0000\n",
      "Epoch 87/100\n",
      "24/24 [==============================] - 0s 779us/step - loss: 0.0904 - accuracy: 1.0000\n",
      "Epoch 88/100\n",
      "24/24 [==============================] - 0s 789us/step - loss: 0.0889 - accuracy: 1.0000\n",
      "Epoch 89/100\n",
      "24/24 [==============================] - 0s 853us/step - loss: 0.0875 - accuracy: 1.0000\n",
      "Epoch 90/100\n",
      "24/24 [==============================] - 0s 800us/step - loss: 0.0861 - accuracy: 1.0000\n",
      "Epoch 91/100\n",
      "24/24 [==============================] - 0s 832us/step - loss: 0.0847 - accuracy: 1.0000\n",
      "Epoch 92/100\n",
      "24/24 [==============================] - 0s 812us/step - loss: 0.0833 - accuracy: 1.0000\n",
      "Epoch 93/100\n",
      "24/24 [==============================] - 0s 824us/step - loss: 0.0820 - accuracy: 1.0000\n",
      "Epoch 94/100\n",
      "24/24 [==============================] - 0s 770us/step - loss: 0.0807 - accuracy: 1.0000\n",
      "Epoch 95/100\n",
      "24/24 [==============================] - 0s 1ms/step - loss: 0.0795 - accuracy: 1.0000\n",
      "Epoch 96/100\n",
      "24/24 [==============================] - 0s 799us/step - loss: 0.0783 - accuracy: 1.0000\n",
      "Epoch 97/100\n",
      "24/24 [==============================] - 0s 833us/step - loss: 0.0771 - accuracy: 1.0000\n",
      "Epoch 98/100\n",
      "24/24 [==============================] - 0s 774us/step - loss: 0.0759 - accuracy: 1.0000\n",
      "Epoch 99/100\n",
      "24/24 [==============================] - 0s 807us/step - loss: 0.0747 - accuracy: 1.0000\n",
      "Epoch 100/100\n",
      "24/24 [==============================] - 0s 798us/step - loss: 0.0736 - accuracy: 1.0000\n"
     ]
    }
   ],
   "source": [
    "# Fit the model to the training data\n",
    "fit_model = nn_model.fit(X_train_scaled, y_train, epochs=100)"
   ]
  },
  {
   "cell_type": "code",
   "execution_count": 11,
   "id": "d01797eb",
   "metadata": {},
   "outputs": [
    {
     "data": {
      "text/plain": [
       "<AxesSubplot:>"
      ]
     },
     "execution_count": 11,
     "metadata": {},
     "output_type": "execute_result"
    },
    {
     "data": {
      "image/png": "[encoded data removed]",
      "text/plain": [
       "<Figure size 432x288 with 1 Axes>"
      ]
     },
     "metadata": {
      "needs_background": "light"
     },
     "output_type": "display_data"
    }
   ],
   "source": [
    "# Create a DataFrame containing training history\n",
    "history_df = pd.DataFrame(fit_model.history, index=range(1,len(fit_model.history[\"loss\"])+1))\n",
    "\n",
    "# Plot the loss\n",
    "history_df.plot(y=\"loss\")\n"
   ]
  },
  {
   "cell_type": "code",
   "execution_count": 12,
   "id": "94696044",
   "metadata": {},
   "outputs": [
    {
     "data": {
      "text/plain": [
       "<AxesSubplot:>"
      ]
     },
     "execution_count": 12,
     "metadata": {},
     "output_type": "execute_result"
    },
    {
     "data": {
      "image/png": "[encoded data removed]",
      "text/plain": [
       "<Figure size 432x288 with 1 Axes>"
      ]
     },
     "metadata": {
      "needs_background": "light"
     },
     "output_type": "display_data"
    }
   ],
   "source": [
    "# Plot the accuracy\n",
    "history_df.plot(y=\"accuracy\")"
   ]
  },
  {
   "cell_type": "code",
   "execution_count": 13,
   "id": "8d6f6eee",
   "metadata": {},
   "outputs": [
    {
     "name": "stdout",
     "output_type": "stream",
     "text": [
      "8/8 - 0s - loss: 0.0688 - accuracy: 1.0000 - 121ms/epoch - 15ms/step\n",
      "Loss: 0.06881457567214966, Accuracy: 1.0\n"
     ]
    }
   ],
   "source": [
    "# Evaluate the model using the test data\n",
    "model_loss, model_accuracy = nn_model.evaluate(X_test_scaled,y_test,verbose=2)\n",
    "print(f\"Loss: {model_loss}, Accuracy: {model_accuracy}\")"
   ]
  },
  {
   "cell_type": "code",
   "execution_count": 14,
   "id": "193d6f4a",
   "metadata": {},
   "outputs": [
    {
     "name": "stdout",
     "output_type": "stream",
     "text": [
      "1/1 [==============================] - 0s 59ms/step\n"
     ]
    },
    {
     "data": {
      "text/plain": [
       "array([[0],\n",
       "       [1],\n",
       "       [0],\n",
       "       [1],\n",
       "       [0],\n",
       "       [0],\n",
       "       [1],\n",
       "       [1],\n",
       "       [1],\n",
       "       [0]], dtype=int32)"
      ]
     },
     "execution_count": 14,
     "metadata": {},
     "output_type": "execute_result"
    }
   ],
   "source": [
    "# Predict the classification of a new set of blob data\n",
    "new_X, new_Y = make_blobs(n_samples=10, centers=2, n_features=2, random_state=78)\n",
    "new_X_scaled = X_scaler.transform(new_X)\n",
    "(nn_model.predict(new_X_scaled) > 0.5).astype(\"int32\")"
   ]
  },
  {
   "cell_type": "code",
   "execution_count": 15,
   "id": "0bc2c45d",
   "metadata": {},
   "outputs": [
    {
     "data": {
      "text/plain": [
       "<AxesSubplot:xlabel='Feature 1', ylabel='Feature 2'>"
      ]
     },
     "execution_count": 15,
     "metadata": {},
     "output_type": "execute_result"
    },
    {
     "data": {
      "image/png": "[encoded data removed]",
      "text/plain": [
       "<Figure size 432x288 with 2 Axes>"
      ]
     },
     "metadata": {
      "needs_background": "light"
     },
     "output_type": "display_data"
    }
   ],
   "source": [
    "from sklearn.datasets import make_moons\n",
    "\n",
    "# Creating dummy nonlinear data\n",
    "X_moons, y_moons = make_moons(n_samples=1000, noise=0.08, random_state=78)\n",
    "\n",
    "# Transforming y_moons to a vertical vector\n",
    "y_moons = y_moons.reshape(-1, 1)\n",
    "\n",
    "# Creating a DataFrame to plot the nonlinear dummy data\n",
    "df_moons = pd.DataFrame(X_moons, columns=[\"Feature 1\", \"Feature 2\"])\n",
    "df_moons[\"Target\"] = y_moons\n",
    "\n",
    "# Plot the nonlinear dummy data\n",
    "df_moons.plot.scatter(x=\"Feature 1\",y=\"Feature 2\", c=\"Target\",colormap=\"winter\")"
   ]
  },
  {
   "cell_type": "code",
   "execution_count": 16,
   "id": "14c809d6",
   "metadata": {},
   "outputs": [],
   "source": [
    "# Create training and testing sets\n",
    "X_moon_train, X_moon_test, y_moon_train, y_moon_test = train_test_split(\n",
    "    X_moons, y_moons, random_state=78\n",
    ")\n",
    "\n",
    "# Create the scaler instance\n",
    "X_moon_scaler = skl.preprocessing.StandardScaler()\n",
    "\n",
    "# Fit the scaler\n",
    "X_moon_scaler.fit(X_moon_train)\n",
    "\n",
    "# Scale the data\n",
    "X_moon_train_scaled = X_moon_scaler.transform(X_moon_train)\n",
    "X_moon_test_scaled = X_moon_scaler.transform(X_moon_test)"
   ]
  },
  {
   "cell_type": "code",
   "execution_count": 17,
   "id": "6d9bbd88",
   "metadata": {},
   "outputs": [
    {
     "name": "stdout",
     "output_type": "stream",
     "text": [
      "Epoch 1/100\n",
      "24/24 [==============================] - 0s 1ms/step - loss: 0.9536 - accuracy: 0.5160\n",
      "Epoch 2/100\n",
      "24/24 [==============================] - 0s 1ms/step - loss: 0.8518 - accuracy: 0.5347\n",
      "Epoch 3/100\n",
      " 1/24 [>.............................] - ETA: 0s - loss: 0.7910 - accuracy: 0.5625"
     ]
    },
    {
     "name": "stderr",
     "output_type": "stream",
     "text": [
      "2022-05-17 13:31:58.042714: W tensorflow/core/common_runtime/forward_type_inference.cc:231] Type inference failed. This indicates an invalid graph that escaped type checking. Error message: INVALID_ARGUMENT: expected compatible input types, but input 1:\n",
      "type_id: TFT_OPTIONAL\n",
      "args {\n",
      "  type_id: TFT_PRODUCT\n",
      "  args {\n",
      "    type_id: TFT_TENSOR\n",
      "    args {\n",
      "      type_id: TFT_BOOL\n",
      "    }\n",
      "  }\n",
      "}\n",
      " is neither a subtype nor a supertype of the combined inputs preceding it:\n",
      "type_id: TFT_OPTIONAL\n",
      "args {\n",
      "  type_id: TFT_PRODUCT\n",
      "  args {\n",
      "    type_id: TFT_TENSOR\n",
      "    args {\n",
      "      type_id: TFT_LEGACY_VARIANT\n",
      "    }\n",
      "  }\n",
      "}\n",
      "\n",
      "\twhile inferring type of node 'binary_crossentropy/cond/output/_10'\n"
     ]
    },
    {
     "name": "stdout",
     "output_type": "stream",
     "text": [
      "24/24 [==============================] - 0s 1ms/step - loss: 0.7808 - accuracy: 0.5600\n",
      "Epoch 4/100\n",
      "24/24 [==============================] - 0s 1ms/step - loss: 0.7336 - accuracy: 0.5747\n",
      "Epoch 5/100\n",
      "24/24 [==============================] - 0s 1ms/step - loss: 0.6973 - accuracy: 0.5840\n",
      "Epoch 6/100\n",
      "24/24 [==============================] - 0s 1ms/step - loss: 0.6693 - accuracy: 0.5973\n",
      "Epoch 7/100\n",
      "24/24 [==============================] - 0s 1ms/step - loss: 0.6459 - accuracy: 0.6067\n",
      "Epoch 8/100\n",
      "24/24 [==============================] - 0s 1ms/step - loss: 0.6257 - accuracy: 0.6147\n",
      "Epoch 9/100\n",
      "24/24 [==============================] - 0s 1ms/step - loss: 0.6081 - accuracy: 0.6267\n",
      "Epoch 10/100\n",
      "24/24 [==============================] - 0s 1ms/step - loss: 0.5926 - accuracy: 0.6347\n",
      "Epoch 11/100\n",
      "24/24 [==============================] - 0s 1ms/step - loss: 0.5785 - accuracy: 0.6427\n",
      "Epoch 12/100\n",
      "24/24 [==============================] - 0s 1ms/step - loss: 0.5659 - accuracy: 0.6467\n",
      "Epoch 13/100\n",
      "24/24 [==============================] - 0s 1ms/step - loss: 0.5543 - accuracy: 0.6547\n",
      "Epoch 14/100\n",
      "24/24 [==============================] - 0s 1ms/step - loss: 0.5433 - accuracy: 0.6667\n",
      "Epoch 15/100\n",
      "24/24 [==============================] - 0s 1ms/step - loss: 0.5333 - accuracy: 0.6720\n",
      "Epoch 16/100\n",
      "24/24 [==============================] - 0s 1ms/step - loss: 0.5240 - accuracy: 0.6800\n",
      "Epoch 17/100\n",
      "24/24 [==============================] - 0s 1ms/step - loss: 0.5148 - accuracy: 0.6840\n",
      "Epoch 18/100\n",
      "24/24 [==============================] - 0s 1ms/step - loss: 0.5062 - accuracy: 0.6880\n",
      "Epoch 19/100\n",
      "24/24 [==============================] - 0s 1ms/step - loss: 0.4985 - accuracy: 0.6920\n",
      "Epoch 20/100\n",
      "24/24 [==============================] - 0s 1ms/step - loss: 0.4907 - accuracy: 0.6973\n",
      "Epoch 21/100\n",
      "24/24 [==============================] - 0s 1ms/step - loss: 0.4833 - accuracy: 0.7013\n",
      "Epoch 22/100\n",
      "24/24 [==============================] - 0s 1ms/step - loss: 0.4763 - accuracy: 0.7067\n",
      "Epoch 23/100\n",
      "24/24 [==============================] - 0s 1ms/step - loss: 0.4696 - accuracy: 0.7133\n",
      "Epoch 24/100\n",
      "24/24 [==============================] - 0s 1ms/step - loss: 0.4632 - accuracy: 0.7187\n",
      "Epoch 25/100\n",
      "24/24 [==============================] - 0s 998us/step - loss: 0.4567 - accuracy: 0.7240\n",
      "Epoch 26/100\n",
      "24/24 [==============================] - 0s 1ms/step - loss: 0.4508 - accuracy: 0.7267\n",
      "Epoch 27/100\n",
      "24/24 [==============================] - 0s 1ms/step - loss: 0.4448 - accuracy: 0.7373\n",
      "Epoch 28/100\n",
      "24/24 [==============================] - 0s 1ms/step - loss: 0.4391 - accuracy: 0.7480\n",
      "Epoch 29/100\n",
      "24/24 [==============================] - 0s 988us/step - loss: 0.4336 - accuracy: 0.7493\n",
      "Epoch 30/100\n",
      "24/24 [==============================] - 0s 1ms/step - loss: 0.4282 - accuracy: 0.7520\n",
      "Epoch 31/100\n",
      "24/24 [==============================] - 0s 943us/step - loss: 0.4228 - accuracy: 0.7560\n",
      "Epoch 32/100\n",
      "24/24 [==============================] - 0s 971us/step - loss: 0.4175 - accuracy: 0.7653\n",
      "Epoch 33/100\n",
      "24/24 [==============================] - 0s 959us/step - loss: 0.4125 - accuracy: 0.7693\n",
      "Epoch 34/100\n",
      "24/24 [==============================] - 0s 1ms/step - loss: 0.4076 - accuracy: 0.7747\n",
      "Epoch 35/100\n",
      "24/24 [==============================] - 0s 959us/step - loss: 0.4027 - accuracy: 0.7800\n",
      "Epoch 36/100\n",
      "24/24 [==============================] - 0s 1ms/step - loss: 0.3979 - accuracy: 0.7840\n",
      "Epoch 37/100\n",
      "24/24 [==============================] - 0s 1ms/step - loss: 0.3933 - accuracy: 0.7840\n",
      "Epoch 38/100\n",
      "24/24 [==============================] - 0s 1ms/step - loss: 0.3887 - accuracy: 0.7853\n",
      "Epoch 39/100\n",
      "24/24 [==============================] - 0s 1ms/step - loss: 0.3843 - accuracy: 0.7867\n",
      "Epoch 40/100\n",
      "24/24 [==============================] - 0s 1ms/step - loss: 0.3799 - accuracy: 0.7907\n",
      "Epoch 41/100\n",
      "24/24 [==============================] - 0s 1ms/step - loss: 0.3756 - accuracy: 0.7933\n",
      "Epoch 42/100\n",
      "24/24 [==============================] - 0s 1ms/step - loss: 0.3714 - accuracy: 0.7947\n",
      "Epoch 43/100\n",
      "24/24 [==============================] - 0s 995us/step - loss: 0.3674 - accuracy: 0.7973\n",
      "Epoch 44/100\n",
      "24/24 [==============================] - 0s 1ms/step - loss: 0.3634 - accuracy: 0.8013\n",
      "Epoch 45/100\n",
      "24/24 [==============================] - 0s 1ms/step - loss: 0.3596 - accuracy: 0.8053\n",
      "Epoch 46/100\n",
      "24/24 [==============================] - 0s 988us/step - loss: 0.3559 - accuracy: 0.8080\n",
      "Epoch 47/100\n",
      "24/24 [==============================] - 0s 1ms/step - loss: 0.3524 - accuracy: 0.8120\n",
      "Epoch 48/100\n",
      "24/24 [==============================] - 0s 1ms/step - loss: 0.3489 - accuracy: 0.8160\n",
      "Epoch 49/100\n",
      "24/24 [==============================] - 0s 1ms/step - loss: 0.3456 - accuracy: 0.8187\n",
      "Epoch 50/100\n",
      "24/24 [==============================] - 0s 1ms/step - loss: 0.3424 - accuracy: 0.8200\n",
      "Epoch 51/100\n",
      "24/24 [==============================] - 0s 1ms/step - loss: 0.3393 - accuracy: 0.8227\n",
      "Epoch 52/100\n",
      "24/24 [==============================] - 0s 993us/step - loss: 0.3362 - accuracy: 0.8267\n",
      "Epoch 53/100\n",
      "24/24 [==============================] - 0s 969us/step - loss: 0.3334 - accuracy: 0.8333\n",
      "Epoch 54/100\n",
      "24/24 [==============================] - 0s 956us/step - loss: 0.3307 - accuracy: 0.8347\n",
      "Epoch 55/100\n",
      "24/24 [==============================] - 0s 1ms/step - loss: 0.3279 - accuracy: 0.8373\n",
      "Epoch 56/100\n",
      "24/24 [==============================] - 0s 953us/step - loss: 0.3254 - accuracy: 0.8373\n",
      "Epoch 57/100\n",
      "24/24 [==============================] - 0s 975us/step - loss: 0.3228 - accuracy: 0.8413\n",
      "Epoch 58/100\n",
      "24/24 [==============================] - 0s 974us/step - loss: 0.3204 - accuracy: 0.8440\n",
      "Epoch 59/100\n",
      "24/24 [==============================] - 0s 1ms/step - loss: 0.3181 - accuracy: 0.8493\n",
      "Epoch 60/100\n",
      "24/24 [==============================] - 0s 1ms/step - loss: 0.3159 - accuracy: 0.8520\n",
      "Epoch 61/100\n",
      "24/24 [==============================] - 0s 1ms/step - loss: 0.3137 - accuracy: 0.8533\n",
      "Epoch 62/100\n",
      "24/24 [==============================] - 0s 986us/step - loss: 0.3116 - accuracy: 0.8560\n",
      "Epoch 63/100\n",
      "24/24 [==============================] - 0s 978us/step - loss: 0.3095 - accuracy: 0.8587\n",
      "Epoch 64/100\n",
      "24/24 [==============================] - 0s 977us/step - loss: 0.3076 - accuracy: 0.8613\n",
      "Epoch 65/100\n",
      "24/24 [==============================] - 0s 997us/step - loss: 0.3057 - accuracy: 0.8640\n",
      "Epoch 66/100\n",
      "24/24 [==============================] - 0s 1ms/step - loss: 0.3039 - accuracy: 0.8640\n",
      "Epoch 67/100\n",
      "24/24 [==============================] - 0s 966us/step - loss: 0.3020 - accuracy: 0.8640\n",
      "Epoch 68/100\n",
      "24/24 [==============================] - 0s 954us/step - loss: 0.3003 - accuracy: 0.8653\n",
      "Epoch 69/100\n",
      "24/24 [==============================] - 0s 1ms/step - loss: 0.2986 - accuracy: 0.8680\n",
      "Epoch 70/100\n",
      "24/24 [==============================] - 0s 980us/step - loss: 0.2970 - accuracy: 0.8680\n",
      "Epoch 71/100\n",
      "24/24 [==============================] - 0s 984us/step - loss: 0.2954 - accuracy: 0.8680\n",
      "Epoch 72/100\n",
      "24/24 [==============================] - 0s 965us/step - loss: 0.2940 - accuracy: 0.8693\n",
      "Epoch 73/100\n",
      "24/24 [==============================] - 0s 985us/step - loss: 0.2925 - accuracy: 0.8693\n",
      "Epoch 74/100\n",
      "24/24 [==============================] - 0s 1ms/step - loss: 0.2910 - accuracy: 0.8693\n",
      "Epoch 75/100\n",
      "24/24 [==============================] - 0s 1ms/step - loss: 0.2897 - accuracy: 0.8707\n",
      "Epoch 76/100\n",
      "24/24 [==============================] - 0s 1ms/step - loss: 0.2884 - accuracy: 0.8707\n",
      "Epoch 77/100\n",
      "24/24 [==============================] - 0s 1ms/step - loss: 0.2871 - accuracy: 0.8707\n",
      "Epoch 78/100\n",
      "24/24 [==============================] - 0s 1ms/step - loss: 0.2859 - accuracy: 0.8707\n",
      "Epoch 79/100\n",
      "24/24 [==============================] - 0s 1ms/step - loss: 0.2847 - accuracy: 0.8720\n",
      "Epoch 80/100\n",
      "24/24 [==============================] - 0s 1ms/step - loss: 0.2837 - accuracy: 0.8733\n",
      "Epoch 81/100\n",
      "24/24 [==============================] - 0s 1ms/step - loss: 0.2825 - accuracy: 0.8733\n",
      "Epoch 82/100\n",
      "24/24 [==============================] - 0s 1ms/step - loss: 0.2815 - accuracy: 0.8733\n",
      "Epoch 83/100\n",
      "24/24 [==============================] - 0s 1ms/step - loss: 0.2805 - accuracy: 0.8733\n",
      "Epoch 84/100\n"
     ]
    },
    {
     "name": "stdout",
     "output_type": "stream",
     "text": [
      "24/24 [==============================] - 0s 1ms/step - loss: 0.2796 - accuracy: 0.8733\n",
      "Epoch 85/100\n",
      "24/24 [==============================] - 0s 1ms/step - loss: 0.2787 - accuracy: 0.8733\n",
      "Epoch 86/100\n",
      "24/24 [==============================] - 0s 1ms/step - loss: 0.2777 - accuracy: 0.8747\n",
      "Epoch 87/100\n",
      "24/24 [==============================] - 0s 1ms/step - loss: 0.2768 - accuracy: 0.8773\n",
      "Epoch 88/100\n",
      "24/24 [==============================] - 0s 989us/step - loss: 0.2759 - accuracy: 0.8773\n",
      "Epoch 89/100\n",
      "24/24 [==============================] - 0s 1ms/step - loss: 0.2752 - accuracy: 0.8800\n",
      "Epoch 90/100\n",
      "24/24 [==============================] - 0s 985us/step - loss: 0.2744 - accuracy: 0.8800\n",
      "Epoch 91/100\n",
      "24/24 [==============================] - 0s 973us/step - loss: 0.2737 - accuracy: 0.8813\n",
      "Epoch 92/100\n",
      "24/24 [==============================] - 0s 973us/step - loss: 0.2729 - accuracy: 0.8827\n",
      "Epoch 93/100\n",
      "24/24 [==============================] - 0s 1ms/step - loss: 0.2722 - accuracy: 0.8827\n",
      "Epoch 94/100\n",
      "24/24 [==============================] - 0s 994us/step - loss: 0.2717 - accuracy: 0.8867\n",
      "Epoch 95/100\n",
      "24/24 [==============================] - 0s 962us/step - loss: 0.2708 - accuracy: 0.8867\n",
      "Epoch 96/100\n",
      "24/24 [==============================] - 0s 964us/step - loss: 0.2702 - accuracy: 0.8867\n",
      "Epoch 97/100\n",
      "24/24 [==============================] - 0s 976us/step - loss: 0.2696 - accuracy: 0.8880\n",
      "Epoch 98/100\n",
      "24/24 [==============================] - 0s 1ms/step - loss: 0.2689 - accuracy: 0.8880\n",
      "Epoch 99/100\n",
      "24/24 [==============================] - 0s 1ms/step - loss: 0.2686 - accuracy: 0.8880\n",
      "Epoch 100/100\n",
      "24/24 [==============================] - 0s 954us/step - loss: 0.2678 - accuracy: 0.8880\n"
     ]
    }
   ],
   "source": [
    "# Training the model with the nonlinear data\n",
    "model_moon = nn_model.fit(X_moon_train_scaled, y_moon_train, epochs=100, shuffle=True)"
   ]
  },
  {
   "cell_type": "code",
   "execution_count": 18,
   "id": "b4eea0a2",
   "metadata": {},
   "outputs": [
    {
     "data": {
      "text/plain": [
       "<AxesSubplot:>"
      ]
     },
     "execution_count": 18,
     "metadata": {},
     "output_type": "execute_result"
    },
    {
     "data": {
      "image/png": "[encoded data removed]",
      "text/plain": [
       "<Figure size 432x288 with 1 Axes>"
      ]
     },
     "metadata": {
      "needs_background": "light"
     },
     "output_type": "display_data"
    }
   ],
   "source": [
    "# Create a DataFrame containing training history\n",
    "history_df = pd.DataFrame(model_moon.history, index=range(1,len(model_moon.history[\"loss\"])+1))\n",
    "\n",
    "# Plot the loss\n",
    "history_df.plot(y=\"loss\")"
   ]
  },
  {
   "cell_type": "code",
   "execution_count": 19,
   "id": "c0e882a1",
   "metadata": {},
   "outputs": [
    {
     "data": {
      "text/plain": [
       "<AxesSubplot:>"
      ]
     },
     "execution_count": 19,
     "metadata": {},
     "output_type": "execute_result"
    },
    {
     "data": {
      "image/png": "[encoded data removed]",
      "text/plain": [
       "<Figure size 432x288 with 1 Axes>"
      ]
     },
     "metadata": {
      "needs_background": "light"
     },
     "output_type": "display_data"
    }
   ],
   "source": [
    "# Plot the accuracy\n",
    "history_df.plot(y=\"accuracy\")\n"
   ]
  },
  {
   "cell_type": "code",
   "execution_count": 20,
   "id": "eec2f3ed",
   "metadata": {},
   "outputs": [],
   "source": [
    "# Generate our new Sequential model\n",
    "new_model = tf.keras.models.Sequential()\n"
   ]
  },
  {
   "cell_type": "code",
   "execution_count": 21,
   "id": "7926a510",
   "metadata": {},
   "outputs": [],
   "source": [
    "# Add the input and hidden layer\n",
    "number_inputs = 2\n",
    "number_hidden_nodes = 6\n",
    "\n",
    "new_model.add(tf.keras.layers.Dense(units=number_hidden_nodes, activation=\"relu\", input_dim=number_inputs))\n",
    "\n",
    "# Add the output layer that uses a probability activation function\n",
    "new_model.add(tf.keras.layers.Dense(units=1, activation=\"sigmoid\"))\n"
   ]
  },
  {
   "cell_type": "code",
   "execution_count": 22,
   "id": "08d27500",
   "metadata": {},
   "outputs": [
    {
     "name": "stdout",
     "output_type": "stream",
     "text": [
      "Epoch 1/100\n",
      "24/24 [==============================] - 0s 993us/step - loss: 0.7297 - accuracy: 0.5307\n",
      "Epoch 2/100\n",
      "24/24 [==============================] - 0s 861us/step - loss: 0.6881 - accuracy: 0.5280\n",
      "Epoch 3/100\n",
      "24/24 [==============================] - 0s 842us/step - loss: 0.6525 - accuracy: 0.5453\n",
      "Epoch 4/100\n",
      "24/24 [==============================] - 0s 872us/step - loss: 0.6211 - accuracy: 0.5600\n",
      "Epoch 5/100\n",
      "24/24 [==============================] - 0s 879us/step - loss: 0.5933 - accuracy: 0.5787\n",
      "Epoch 6/100\n",
      "24/24 [==============================] - 0s 899us/step - loss: 0.5675 - accuracy: 0.6027\n",
      "Epoch 7/100\n",
      "24/24 [==============================] - 0s 867us/step - loss: 0.5441 - accuracy: 0.6240\n",
      "Epoch 8/100\n",
      "24/24 [==============================] - 0s 883us/step - loss: 0.5217 - accuracy: 0.6587\n",
      "Epoch 9/100\n",
      "24/24 [==============================] - 0s 870us/step - loss: 0.5007 - accuracy: 0.6907\n",
      "Epoch 10/100\n",
      "24/24 [==============================] - 0s 913us/step - loss: 0.4803 - accuracy: 0.7200\n",
      "Epoch 11/100\n",
      "24/24 [==============================] - 0s 907us/step - loss: 0.4607 - accuracy: 0.7587\n",
      "Epoch 12/100\n",
      "24/24 [==============================] - 0s 819us/step - loss: 0.4425 - accuracy: 0.8107\n",
      "Epoch 13/100\n",
      "24/24 [==============================] - 0s 824us/step - loss: 0.4248 - accuracy: 0.8453\n",
      "Epoch 14/100\n",
      "24/24 [==============================] - 0s 815us/step - loss: 0.4081 - accuracy: 0.8520\n",
      "Epoch 15/100\n",
      "24/24 [==============================] - 0s 853us/step - loss: 0.3929 - accuracy: 0.8587\n",
      "Epoch 16/100\n",
      "24/24 [==============================] - 0s 827us/step - loss: 0.3791 - accuracy: 0.8627\n",
      "Epoch 17/100\n",
      "24/24 [==============================] - 0s 814us/step - loss: 0.3661 - accuracy: 0.8680\n",
      "Epoch 18/100\n",
      "24/24 [==============================] - 0s 848us/step - loss: 0.3547 - accuracy: 0.8693\n",
      "Epoch 19/100\n",
      "24/24 [==============================] - 0s 803us/step - loss: 0.3442 - accuracy: 0.8707\n",
      "Epoch 20/100\n",
      "24/24 [==============================] - 0s 822us/step - loss: 0.3352 - accuracy: 0.8733\n",
      "Epoch 21/100\n",
      "24/24 [==============================] - 0s 828us/step - loss: 0.3266 - accuracy: 0.8733\n",
      "Epoch 22/100\n",
      "24/24 [==============================] - 0s 798us/step - loss: 0.3188 - accuracy: 0.8747\n",
      "Epoch 23/100\n",
      "24/24 [==============================] - 0s 826us/step - loss: 0.3121 - accuracy: 0.8747\n",
      "Epoch 24/100\n",
      "24/24 [==============================] - 0s 827us/step - loss: 0.3058 - accuracy: 0.8760\n",
      "Epoch 25/100\n",
      "24/24 [==============================] - 0s 801us/step - loss: 0.3001 - accuracy: 0.8760\n",
      "Epoch 26/100\n",
      "24/24 [==============================] - 0s 809us/step - loss: 0.2949 - accuracy: 0.8760\n",
      "Epoch 27/100\n",
      "24/24 [==============================] - 0s 807us/step - loss: 0.2902 - accuracy: 0.8773\n",
      "Epoch 28/100\n",
      "24/24 [==============================] - 0s 809us/step - loss: 0.2858 - accuracy: 0.8773\n",
      "Epoch 29/100\n",
      "24/24 [==============================] - 0s 804us/step - loss: 0.2817 - accuracy: 0.8787\n",
      "Epoch 30/100\n",
      "24/24 [==============================] - 0s 815us/step - loss: 0.2781 - accuracy: 0.8787\n",
      "Epoch 31/100\n",
      "24/24 [==============================] - 0s 824us/step - loss: 0.2745 - accuracy: 0.8827\n",
      "Epoch 32/100\n",
      "24/24 [==============================] - 0s 828us/step - loss: 0.2714 - accuracy: 0.8840\n",
      "Epoch 33/100\n",
      "24/24 [==============================] - 0s 881us/step - loss: 0.2683 - accuracy: 0.8867\n",
      "Epoch 34/100\n",
      "24/24 [==============================] - 0s 840us/step - loss: 0.2656 - accuracy: 0.8880\n",
      "Epoch 35/100\n",
      "24/24 [==============================] - 0s 820us/step - loss: 0.2628 - accuracy: 0.8880\n",
      "Epoch 36/100\n",
      "24/24 [==============================] - 0s 823us/step - loss: 0.2602 - accuracy: 0.8893\n",
      "Epoch 37/100\n",
      "24/24 [==============================] - 0s 856us/step - loss: 0.2578 - accuracy: 0.8920\n",
      "Epoch 38/100\n",
      "24/24 [==============================] - 0s 804us/step - loss: 0.2554 - accuracy: 0.8933\n",
      "Epoch 39/100\n",
      "24/24 [==============================] - 0s 812us/step - loss: 0.2531 - accuracy: 0.8947\n",
      "Epoch 40/100\n",
      "24/24 [==============================] - 0s 840us/step - loss: 0.2510 - accuracy: 0.8947\n",
      "Epoch 41/100\n",
      "24/24 [==============================] - 0s 864us/step - loss: 0.2490 - accuracy: 0.8947\n",
      "Epoch 42/100\n",
      "24/24 [==============================] - 0s 842us/step - loss: 0.2469 - accuracy: 0.8933\n",
      "Epoch 43/100\n",
      "24/24 [==============================] - 0s 841us/step - loss: 0.2450 - accuracy: 0.8960\n",
      "Epoch 44/100\n",
      "24/24 [==============================] - 0s 835us/step - loss: 0.2432 - accuracy: 0.8973\n",
      "Epoch 45/100\n",
      "24/24 [==============================] - 0s 813us/step - loss: 0.2414 - accuracy: 0.8973\n",
      "Epoch 46/100\n",
      "24/24 [==============================] - 0s 811us/step - loss: 0.2397 - accuracy: 0.8987\n",
      "Epoch 47/100\n",
      "24/24 [==============================] - 0s 806us/step - loss: 0.2381 - accuracy: 0.8987\n",
      "Epoch 48/100\n",
      "24/24 [==============================] - 0s 795us/step - loss: 0.2366 - accuracy: 0.8987\n",
      "Epoch 49/100\n",
      "24/24 [==============================] - 0s 798us/step - loss: 0.2351 - accuracy: 0.8987\n",
      "Epoch 50/100\n",
      "24/24 [==============================] - 0s 824us/step - loss: 0.2338 - accuracy: 0.8987\n",
      "Epoch 51/100\n",
      "24/24 [==============================] - 0s 788us/step - loss: 0.2323 - accuracy: 0.8987\n",
      "Epoch 52/100\n",
      "24/24 [==============================] - 0s 814us/step - loss: 0.2310 - accuracy: 0.9013\n",
      "Epoch 53/100\n",
      "24/24 [==============================] - 0s 1ms/step - loss: 0.2299 - accuracy: 0.9013\n",
      "Epoch 54/100\n",
      "24/24 [==============================] - 0s 883us/step - loss: 0.2286 - accuracy: 0.9013\n",
      "Epoch 55/100\n",
      "24/24 [==============================] - 0s 886us/step - loss: 0.2274 - accuracy: 0.9013\n",
      "Epoch 56/100\n",
      "24/24 [==============================] - 0s 887us/step - loss: 0.2264 - accuracy: 0.9013\n",
      "Epoch 57/100\n",
      "24/24 [==============================] - 0s 813us/step - loss: 0.2253 - accuracy: 0.9013\n",
      "Epoch 58/100\n",
      "24/24 [==============================] - 0s 835us/step - loss: 0.2241 - accuracy: 0.9013\n",
      "Epoch 59/100\n",
      "24/24 [==============================] - 0s 798us/step - loss: 0.2231 - accuracy: 0.9027\n",
      "Epoch 60/100\n",
      "24/24 [==============================] - 0s 804us/step - loss: 0.2220 - accuracy: 0.9027\n",
      "Epoch 61/100\n",
      "24/24 [==============================] - 0s 809us/step - loss: 0.2209 - accuracy: 0.9027\n",
      "Epoch 62/100\n",
      "24/24 [==============================] - 0s 879us/step - loss: 0.2198 - accuracy: 0.9027\n",
      "Epoch 63/100\n",
      "24/24 [==============================] - 0s 806us/step - loss: 0.2187 - accuracy: 0.9027\n",
      "Epoch 64/100\n",
      "24/24 [==============================] - 0s 808us/step - loss: 0.2176 - accuracy: 0.9027\n",
      "Epoch 65/100\n",
      "24/24 [==============================] - 0s 805us/step - loss: 0.2165 - accuracy: 0.9040\n",
      "Epoch 66/100\n",
      "24/24 [==============================] - 0s 784us/step - loss: 0.2154 - accuracy: 0.9053\n",
      "Epoch 67/100\n",
      "24/24 [==============================] - 0s 789us/step - loss: 0.2143 - accuracy: 0.9053\n",
      "Epoch 68/100\n",
      "24/24 [==============================] - 0s 795us/step - loss: 0.2131 - accuracy: 0.9067\n",
      "Epoch 69/100\n",
      "24/24 [==============================] - 0s 800us/step - loss: 0.2120 - accuracy: 0.9067\n",
      "Epoch 70/100\n",
      "24/24 [==============================] - 0s 800us/step - loss: 0.2109 - accuracy: 0.9067\n",
      "Epoch 71/100\n",
      "24/24 [==============================] - 0s 832us/step - loss: 0.2097 - accuracy: 0.9067\n",
      "Epoch 72/100\n",
      "24/24 [==============================] - 0s 875us/step - loss: 0.2085 - accuracy: 0.9067\n",
      "Epoch 73/100\n",
      "24/24 [==============================] - 0s 920us/step - loss: 0.2074 - accuracy: 0.9067\n",
      "Epoch 74/100\n",
      "24/24 [==============================] - 0s 879us/step - loss: 0.2062 - accuracy: 0.9080\n",
      "Epoch 75/100\n",
      "24/24 [==============================] - 0s 855us/step - loss: 0.2050 - accuracy: 0.9067\n",
      "Epoch 76/100\n",
      "24/24 [==============================] - 0s 811us/step - loss: 0.2038 - accuracy: 0.9107\n",
      "Epoch 77/100\n",
      "24/24 [==============================] - 0s 791us/step - loss: 0.2026 - accuracy: 0.9107\n",
      "Epoch 78/100\n",
      "24/24 [==============================] - 0s 797us/step - loss: 0.2014 - accuracy: 0.9120\n",
      "Epoch 79/100\n",
      "24/24 [==============================] - 0s 827us/step - loss: 0.2002 - accuracy: 0.9120\n",
      "Epoch 80/100\n",
      "24/24 [==============================] - 0s 835us/step - loss: 0.1992 - accuracy: 0.9133\n",
      "Epoch 81/100\n"
     ]
    },
    {
     "name": "stdout",
     "output_type": "stream",
     "text": [
      "24/24 [==============================] - 0s 891us/step - loss: 0.1978 - accuracy: 0.9133\n",
      "Epoch 82/100\n",
      "24/24 [==============================] - 0s 892us/step - loss: 0.1967 - accuracy: 0.9133\n",
      "Epoch 83/100\n",
      "24/24 [==============================] - 0s 850us/step - loss: 0.1955 - accuracy: 0.9133\n",
      "Epoch 84/100\n",
      "24/24 [==============================] - 0s 825us/step - loss: 0.1943 - accuracy: 0.9133\n",
      "Epoch 85/100\n",
      "24/24 [==============================] - 0s 854us/step - loss: 0.1931 - accuracy: 0.9133\n",
      "Epoch 86/100\n",
      "24/24 [==============================] - 0s 840us/step - loss: 0.1919 - accuracy: 0.9133\n",
      "Epoch 87/100\n",
      "24/24 [==============================] - 0s 870us/step - loss: 0.1907 - accuracy: 0.9133\n",
      "Epoch 88/100\n",
      "24/24 [==============================] - 0s 827us/step - loss: 0.1895 - accuracy: 0.9133\n",
      "Epoch 89/100\n",
      "24/24 [==============================] - 0s 864us/step - loss: 0.1883 - accuracy: 0.9133\n",
      "Epoch 90/100\n",
      "24/24 [==============================] - 0s 861us/step - loss: 0.1871 - accuracy: 0.9133\n",
      "Epoch 91/100\n",
      "24/24 [==============================] - 0s 872us/step - loss: 0.1860 - accuracy: 0.9133\n",
      "Epoch 92/100\n",
      "24/24 [==============================] - 0s 835us/step - loss: 0.1847 - accuracy: 0.9147\n",
      "Epoch 93/100\n",
      "24/24 [==============================] - 0s 837us/step - loss: 0.1836 - accuracy: 0.9160\n",
      "Epoch 94/100\n",
      "24/24 [==============================] - 0s 766us/step - loss: 0.1824 - accuracy: 0.9187\n",
      "Epoch 95/100\n",
      "24/24 [==============================] - 0s 773us/step - loss: 0.1811 - accuracy: 0.9187\n",
      "Epoch 96/100\n",
      "24/24 [==============================] - 0s 822us/step - loss: 0.1799 - accuracy: 0.9200\n",
      "Epoch 97/100\n",
      "24/24 [==============================] - 0s 835us/step - loss: 0.1787 - accuracy: 0.9200\n",
      "Epoch 98/100\n",
      "24/24 [==============================] - 0s 864us/step - loss: 0.1774 - accuracy: 0.9213\n",
      "Epoch 99/100\n",
      "24/24 [==============================] - 0s 848us/step - loss: 0.1763 - accuracy: 0.9213\n",
      "Epoch 100/100\n",
      "24/24 [==============================] - 0s 892us/step - loss: 0.1750 - accuracy: 0.9213\n"
     ]
    }
   ],
   "source": [
    "# Compile the Sequential model together and customize metrics\n",
    "new_model.compile(loss=\"binary_crossentropy\", optimizer=\"adam\", metrics=[\"accuracy\"])\n",
    "\n",
    "# Fit the model to the training data\n",
    "new_fit_model = new_model.fit(X_moon_train_scaled, y_moon_train, epochs=100, shuffle=True)"
   ]
  },
  {
   "cell_type": "code",
   "execution_count": null,
   "id": "67930d68",
   "metadata": {},
   "outputs": [],
   "source": []
  }
 ],
 "metadata": {
  "kernelspec": {
   "display_name": "mlenv",
   "language": "python",
   "name": "mlenv"
  },
  "language_info": {
   "codemirror_mode": {
    "name": "ipython",
    "version": 3
   },
   "file_extension": ".py",
   "mimetype": "text/x-python",
   "name": "python",
   "nbconvert_exporter": "python",
   "pygments_lexer": "ipython3",
   "version": "3.7.11"
  }
 },
 "nbformat": 4,
 "nbformat_minor": 5
}
